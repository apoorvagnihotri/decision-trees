{
 "cells": [
  {
   "cell_type": "code",
   "execution_count": 99,
   "metadata": {},
   "outputs": [
    {
     "name": "stdout",
     "output_type": "stream",
     "text": [
      "Exception reporting mode: Verbose\n"
     ]
    }
   ],
   "source": [
    "%reload_ext autoreload\n",
    "%autoreload 2\n",
    "%xmode Verbose"
   ]
  },
  {
   "cell_type": "markdown",
   "metadata": {},
   "source": [
    "Checking out the basic functions manually"
   ]
  },
  {
   "cell_type": "code",
   "execution_count": 100,
   "metadata": {},
   "outputs": [],
   "source": [
    "import utils as helper\n",
    "import pandas as pd"
   ]
  },
  {
   "cell_type": "code",
   "execution_count": 129,
   "metadata": {
    "scrolled": true
   },
   "outputs": [
    {
     "name": "stdout",
     "output_type": "stream",
     "text": [
      "oth col is_numeric? : True\n",
      "3     2\n",
      "13    1\n",
      "Name: 2, dtype: int64\n",
      "###########\n",
      "3\n",
      "13\n"
     ]
    }
   ],
   "source": [
    "sample_data_raw = [[22,125,13],\n",
    "               [275,15,3],\n",
    "               [123,17,3]]\n",
    "sample_data = pd.DataFrame(sample_data_raw)\n",
    "print (\"oth col is_numeric? :\", helper.is_numeric(sample_data, 0))\n",
    "print (helper.label_counts(sample_data))\n",
    "print (\"###########\")\n",
    "print (helper.most_probable_label(sample_data))\n",
    "print (helper.most_probable_label(sample_data.iloc[:1, :]))"
   ]
  },
  {
   "cell_type": "markdown",
   "metadata": {},
   "source": [
    "General Child Parent relationships below"
   ]
  },
  {
   "cell_type": "code",
   "execution_count": 130,
   "metadata": {},
   "outputs": [],
   "source": [
    "class Dog():\n",
    "    def __init__(self):\n",
    "        pass\n",
    "    \n",
    "    def bark(self):\n",
    "        print (\"barking\")"
   ]
  },
  {
   "cell_type": "code",
   "execution_count": 131,
   "metadata": {},
   "outputs": [],
   "source": [
    "class Pup(Dog):\n",
    "    def __init__(self):\n",
    "        pass\n",
    "    def cry(self):\n",
    "        print (\"pups don't cry, steriotyper\")"
   ]
  },
  {
   "cell_type": "code",
   "execution_count": 132,
   "metadata": {},
   "outputs": [
    {
     "name": "stdout",
     "output_type": "stream",
     "text": [
      "barking\n"
     ]
    }
   ],
   "source": [
    "P = Pup()\n",
    "P.bark()"
   ]
  },
  {
   "cell_type": "markdown",
   "metadata": {},
   "source": [
    "Checking the criterion class"
   ]
  },
  {
   "cell_type": "code",
   "execution_count": 133,
   "metadata": {},
   "outputs": [],
   "source": [
    "import criterion"
   ]
  },
  {
   "cell_type": "code",
   "execution_count": 134,
   "metadata": {
    "scrolled": true
   },
   "outputs": [
    {
     "name": "stdout",
     "output_type": "stream",
     "text": [
      "0.4444444444444445\n",
      "0.11111111111111116\n"
     ]
    }
   ],
   "source": [
    "g = criterion.Gini()\n",
    "curr = g.impurity(sample_data)\n",
    "print (curr)\n",
    "print (g.info_gain(sample_data[0:2],\n",
    "                   sample_data[2:],\n",
    "                   curr))\n",
    "# We would get the info gain to be less than .44\n",
    "# as we did bad job in splitting"
   ]
  },
  {
   "cell_type": "markdown",
   "metadata": {},
   "source": [
    "Testing Questions."
   ]
  },
  {
   "cell_type": "code",
   "execution_count": 138,
   "metadata": {},
   "outputs": [],
   "source": [
    "from question import Question"
   ]
  },
  {
   "cell_type": "code",
   "execution_count": 142,
   "metadata": {
    "scrolled": true
   },
   "outputs": [
    {
     "name": "stdout",
     "output_type": "stream",
     "text": [
      "mein col= 1 mein valu= 17 se >= hai!\n",
      "17 is numeric\n"
     ]
    },
    {
     "data": {
      "text/html": [
       "<div>\n",
       "<style scoped>\n",
       "    .dataframe tbody tr th:only-of-type {\n",
       "        vertical-align: middle;\n",
       "    }\n",
       "\n",
       "    .dataframe tbody tr th {\n",
       "        vertical-align: top;\n",
       "    }\n",
       "\n",
       "    .dataframe thead th {\n",
       "        text-align: right;\n",
       "    }\n",
       "</style>\n",
       "<table border=\"1\" class=\"dataframe\">\n",
       "  <thead>\n",
       "    <tr style=\"text-align: right;\">\n",
       "      <th></th>\n",
       "      <th>0</th>\n",
       "      <th>1</th>\n",
       "      <th>2</th>\n",
       "    </tr>\n",
       "  </thead>\n",
       "  <tbody>\n",
       "    <tr>\n",
       "      <th>0</th>\n",
       "      <td>22</td>\n",
       "      <td>125</td>\n",
       "      <td>13</td>\n",
       "    </tr>\n",
       "    <tr>\n",
       "      <th>2</th>\n",
       "      <td>123</td>\n",
       "      <td>17</td>\n",
       "      <td>3</td>\n",
       "    </tr>\n",
       "  </tbody>\n",
       "</table>\n",
       "</div>"
      ],
      "text/plain": [
       "     0    1   2\n",
       "0   22  125  13\n",
       "2  123   17   3"
      ]
     },
     "execution_count": 142,
     "metadata": {},
     "output_type": "execute_result"
    }
   ],
   "source": [
    "col = 1\n",
    "wedge = 17\n",
    "q = Question(col, wedge)\n",
    "print(\"mein col=\", col, \"mein valu=\", wedge, \"se >= hai!\")\n",
    "q.divide_on_question(sample_data)[0]"
   ]
  },
  {
   "cell_type": "code",
   "execution_count": 143,
   "metadata": {},
   "outputs": [
    {
     "name": "stdout",
     "output_type": "stream",
     "text": [
      "mein col= 1 mein valu= 17 se < hai!\n"
     ]
    },
    {
     "data": {
      "text/html": [
       "<div>\n",
       "<style scoped>\n",
       "    .dataframe tbody tr th:only-of-type {\n",
       "        vertical-align: middle;\n",
       "    }\n",
       "\n",
       "    .dataframe tbody tr th {\n",
       "        vertical-align: top;\n",
       "    }\n",
       "\n",
       "    .dataframe thead th {\n",
       "        text-align: right;\n",
       "    }\n",
       "</style>\n",
       "<table border=\"1\" class=\"dataframe\">\n",
       "  <thead>\n",
       "    <tr style=\"text-align: right;\">\n",
       "      <th></th>\n",
       "      <th>0</th>\n",
       "      <th>1</th>\n",
       "      <th>2</th>\n",
       "    </tr>\n",
       "  </thead>\n",
       "  <tbody>\n",
       "    <tr>\n",
       "      <th>1</th>\n",
       "      <td>275</td>\n",
       "      <td>15</td>\n",
       "      <td>3</td>\n",
       "    </tr>\n",
       "  </tbody>\n",
       "</table>\n",
       "</div>"
      ],
      "text/plain": [
       "     0   1  2\n",
       "1  275  15  3"
      ]
     },
     "execution_count": 143,
     "metadata": {},
     "output_type": "execute_result"
    }
   ],
   "source": [
    "print(\"mein col=\", col, \"mein valu=\", wedge, \"se < hai!\")\n",
    "q.divide_on_question(sample_data)[1]"
   ]
  },
  {
   "cell_type": "markdown",
   "metadata": {},
   "source": [
    "Testing some DT Functions"
   ]
  },
  {
   "cell_type": "code",
   "execution_count": 144,
   "metadata": {},
   "outputs": [],
   "source": [
    "import dt"
   ]
  },
  {
   "cell_type": "code",
   "execution_count": 149,
   "metadata": {},
   "outputs": [],
   "source": [
    "import criterion\n",
    "from question import Question\n",
    "from nodes import DecisionNode, PredictionNode\n",
    "\n",
    "class DecisionTree:\n",
    "    \"\"\"you don't want to instantiate this\n",
    "    object directly, use a derived class.\n",
    "    \"\"\"\n",
    "    def __init__(self, \n",
    "                 method, \n",
    "                 max_depth, \n",
    "                 max_points):\n",
    "        self.method = method\n",
    "        self.max_depth = max_depth\n",
    "        self.max_points = max_points\n",
    "        self.criterion = self._make_metric_class()\n",
    "        self.root = None\n",
    "        \n",
    "    \n",
    "    def train(self, rows):\n",
    "        pass\n",
    "#         self.root = self._build_tree(rows, 0)\n",
    "\n",
    "    def _make_metric_class(self):\n",
    "        if self.method=='gini':\n",
    "            return criterion.Gini()\n",
    "\n",
    "        elif self.method=='entropy':\n",
    "            return criterion.Entropy()\n",
    "    \n",
    "    def _best_split(self, rows):\n",
    "        '''Finds the best Question (using info_gain) that \n",
    "        splits the rows into left and right buckets.\n",
    "\n",
    "        Returns a Question (records the col_index and the value.)\n",
    "        @ bad performance when we have really large number of rows.\n",
    "        Can improve by first sorting and then doing a binary search\n",
    "        '''\n",
    "        previous_impurity = self.criterion.impurity(rows)\n",
    "        BestInfoGain = 0 # find the best col and val to split the rows\n",
    "        best_question = None\n",
    "        num_rows, num_cols = rows.shape\n",
    "        for col in range(num_cols - 1): # last col is the label \n",
    "                                       # rows have same len\n",
    "            for row in range(num_rows):\n",
    "                val = rows.iloc[row, col]         # this val may be the wedge\n",
    "                                                  # value for the question\n",
    "                q = Question(col, val)\n",
    "                left, right = q.divide_on_question(rows)\n",
    "                if left.shape[0] == 0 or right.shape[0] == 0:\n",
    "                    continue           # ignore the case when no splitting\n",
    "                InfoGain = self.criterion.info_gain(left, right, previous_impurity)\n",
    "                # if best info gain crossed save state or save Question\n",
    "                if InfoGain >= BestInfoGain:\n",
    "                    BestInfoGain = InfoGain\n",
    "                    best_question = q\n",
    "        return BestInfoGain, best_question\n",
    "    \n",
    "    \n",
    "    def _build_tree(self, rows, depth):\n",
    "        '''This function would be recursively called\n",
    "        We first set the base case where we check if the\n",
    "        the depth of tree is less than some number or\n",
    "        we don't have any difference in labels\n",
    "        @add support for regression\n",
    "        '''\n",
    "        if depth == self.max_depth: # forced leaf\n",
    "            return PredictionNode(rows)\n",
    "\n",
    "        gain, question = self._best_split(rows)\n",
    "        if gain == 0:               # we have encountered a leaf\n",
    "            return PredictionNode(rows)\n",
    "\n",
    "        left, right = divide_on_question(rows, question)\n",
    "        left_branch = self._build_tree(left, depth + 1)\n",
    "        right_branch = self._build_tree(right, depth + 1)\n",
    "        return DecisionNode(question, left_branch, right_branch)\n",
    "\n",
    "\n",
    "class DecisionTreeClassifier(DecisionTree):\n",
    "    \"\"\"Instantiate this class for a Decision\n",
    "    Tree for classification tasks.\n",
    "    \"\"\"\n",
    "    def __init__(self,\n",
    "                 method=\"gini\",\n",
    "                 max_depth=2,\n",
    "                 max_points=None):\n",
    "        super().__init__(method,\n",
    "                         max_depth,\n",
    "                         max_points)\n",
    "    \n",
    "\n",
    "    def predict(self, row):\n",
    "        return classify(row, self.root)\n"
   ]
  },
  {
   "cell_type": "code",
   "execution_count": 150,
   "metadata": {},
   "outputs": [],
   "source": [
    "d = DecisionTreeClassifier()"
   ]
  },
  {
   "cell_type": "code",
   "execution_count": 151,
   "metadata": {},
   "outputs": [],
   "source": [
    "d.train(sample_data)"
   ]
  },
  {
   "cell_type": "code",
   "execution_count": 154,
   "metadata": {
    "scrolled": true
   },
   "outputs": [
    {
     "name": "stdout",
     "output_type": "stream",
     "text": [
      "(0.4444444444444445, <question.Question object at 0x7f0884407ef0>)\n",
      "left     0    1   2\n",
      "0  22  125  13\n",
      "Right      0   1  2\n",
      "1  275  15  3\n",
      "2  123  17  3\n"
     ]
    }
   ],
   "source": [
    "out = d._best_split(sample_data)\n",
    "print (out)\n",
    "left, right = out[1].divide_on_question(sample_data)"
   ]
  },
  {
   "cell_type": "code",
   "execution_count": 155,
   "metadata": {},
   "outputs": [
    {
     "name": "stdout",
     "output_type": "stream",
     "text": [
      "left\n"
     ]
    },
    {
     "data": {
      "text/html": [
       "<div>\n",
       "<style scoped>\n",
       "    .dataframe tbody tr th:only-of-type {\n",
       "        vertical-align: middle;\n",
       "    }\n",
       "\n",
       "    .dataframe tbody tr th {\n",
       "        vertical-align: top;\n",
       "    }\n",
       "\n",
       "    .dataframe thead th {\n",
       "        text-align: right;\n",
       "    }\n",
       "</style>\n",
       "<table border=\"1\" class=\"dataframe\">\n",
       "  <thead>\n",
       "    <tr style=\"text-align: right;\">\n",
       "      <th></th>\n",
       "      <th>0</th>\n",
       "      <th>1</th>\n",
       "      <th>2</th>\n",
       "    </tr>\n",
       "  </thead>\n",
       "  <tbody>\n",
       "    <tr>\n",
       "      <th>0</th>\n",
       "      <td>22</td>\n",
       "      <td>125</td>\n",
       "      <td>13</td>\n",
       "    </tr>\n",
       "  </tbody>\n",
       "</table>\n",
       "</div>"
      ],
      "text/plain": [
       "    0    1   2\n",
       "0  22  125  13"
      ]
     },
     "execution_count": 155,
     "metadata": {},
     "output_type": "execute_result"
    }
   ],
   "source": [
    "print (\"left\")\n",
    "left"
   ]
  },
  {
   "cell_type": "code",
   "execution_count": 156,
   "metadata": {},
   "outputs": [
    {
     "name": "stdout",
     "output_type": "stream",
     "text": [
      "right\n"
     ]
    },
    {
     "data": {
      "text/html": [
       "<div>\n",
       "<style scoped>\n",
       "    .dataframe tbody tr th:only-of-type {\n",
       "        vertical-align: middle;\n",
       "    }\n",
       "\n",
       "    .dataframe tbody tr th {\n",
       "        vertical-align: top;\n",
       "    }\n",
       "\n",
       "    .dataframe thead th {\n",
       "        text-align: right;\n",
       "    }\n",
       "</style>\n",
       "<table border=\"1\" class=\"dataframe\">\n",
       "  <thead>\n",
       "    <tr style=\"text-align: right;\">\n",
       "      <th></th>\n",
       "      <th>0</th>\n",
       "      <th>1</th>\n",
       "      <th>2</th>\n",
       "    </tr>\n",
       "  </thead>\n",
       "  <tbody>\n",
       "    <tr>\n",
       "      <th>1</th>\n",
       "      <td>275</td>\n",
       "      <td>15</td>\n",
       "      <td>3</td>\n",
       "    </tr>\n",
       "    <tr>\n",
       "      <th>2</th>\n",
       "      <td>123</td>\n",
       "      <td>17</td>\n",
       "      <td>3</td>\n",
       "    </tr>\n",
       "  </tbody>\n",
       "</table>\n",
       "</div>"
      ],
      "text/plain": [
       "     0   1  2\n",
       "1  275  15  3\n",
       "2  123  17  3"
      ]
     },
     "execution_count": 156,
     "metadata": {},
     "output_type": "execute_result"
    }
   ],
   "source": [
    "print (\"right\")\n",
    "right"
   ]
  },
  {
   "cell_type": "markdown",
   "metadata": {},
   "source": [
    "Test the nodes that are used to build the DT"
   ]
  },
  {
   "cell_type": "code",
   "execution_count": 99,
   "metadata": {},
   "outputs": [],
   "source": [
    "import nodes"
   ]
  },
  {
   "cell_type": "code",
   "execution_count": null,
   "metadata": {},
   "outputs": [],
   "source": [
    "nodes.DecisionNode('q', 'r', r)"
   ]
  }
 ],
 "metadata": {
  "kernelspec": {
   "display_name": "Python 3",
   "language": "python",
   "name": "python3"
  },
  "language_info": {
   "codemirror_mode": {
    "name": "ipython",
    "version": 3
   },
   "file_extension": ".py",
   "mimetype": "text/x-python",
   "name": "python",
   "nbconvert_exporter": "python",
   "pygments_lexer": "ipython3",
   "version": "3.7.2"
  }
 },
 "nbformat": 4,
 "nbformat_minor": 2
}
