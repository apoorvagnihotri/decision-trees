{
 "cells": [
  {
   "cell_type": "code",
   "execution_count": 14,
   "metadata": {},
   "outputs": [],
   "source": [
    "%reload_ext autoreload\n",
    "%autoreload 2"
   ]
  },
  {
   "cell_type": "code",
   "execution_count": 35,
   "metadata": {},
   "outputs": [],
   "source": [
    "import criterion\n",
    "class DecisionTree:\n",
    "    def __init__(self, rows):\n",
    "        self.rows = rows\n",
    "\n",
    "    def _make_metric_class(self):\n",
    "        if self.method=='gini':\n",
    "            return criterion.Gini()\n",
    "        \n",
    "        elif self.method=='entropy':\n",
    "            return criterion.Entropy()\n",
    "\n",
    "class DecisionTreeClassifier(DecisionTree):\n",
    "    def __init__(self, method=\"gini\"):\n",
    "        self.method = method\n",
    "        super().__init__(rows)\n",
    "\n"
   ]
  },
  {
   "cell_type": "code",
   "execution_count": 2,
   "metadata": {},
   "outputs": [],
   "source": []
  },
  {
   "cell_type": "code",
   "execution_count": 3,
   "metadata": {},
   "outputs": [],
   "source": [
    "class Question:\n",
    "    '''this class saves col_index and value\n",
    "    for which a row would be considered\n",
    "    greater than or not.\n",
    "    '''\n",
    "    def __init__(self, col, wedge):\n",
    "        self.col = col\n",
    "        self.wedge = wedge\n",
    "        \n",
    "    def \n",
    "\n",
    "    def is_satified(self, row):\n",
    "        val = row[self.col]\n",
    "        if is_numeric(val):\n",
    "            return val >= self.wedge\n",
    "        else:\n",
    "            return val == self.wedge"
   ]
  },
  {
   "cell_type": "code",
   "execution_count": null,
   "metadata": {},
   "outputs": [],
   "source": []
  }
 ],
 "metadata": {
  "kernelspec": {
   "display_name": "Python 3",
   "language": "python",
   "name": "python3"
  },
  "language_info": {
   "codemirror_mode": {
    "name": "ipython",
    "version": 3
   },
   "file_extension": ".py",
   "mimetype": "text/x-python",
   "name": "python",
   "nbconvert_exporter": "python",
   "pygments_lexer": "ipython3",
   "version": "3.7.2"
  }
 },
 "nbformat": 4,
 "nbformat_minor": 2
}
